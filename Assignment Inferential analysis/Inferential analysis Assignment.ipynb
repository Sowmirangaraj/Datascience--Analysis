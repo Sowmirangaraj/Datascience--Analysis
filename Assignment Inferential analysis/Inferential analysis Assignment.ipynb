{
 "cells": [
  {
   "cell_type": "code",
   "execution_count": 1,
   "id": "12203c41-de98-4123-9f67-9198683cdfec",
   "metadata": {},
   "outputs": [],
   "source": [
    "import pandas as pd\n",
    "import warnings\n",
    "warnings.filterwarnings(\"ignore\")"
   ]
  },
  {
   "cell_type": "code",
   "execution_count": 2,
   "id": "9a9f98f9-9480-4358-88de-c43133a37de7",
   "metadata": {},
   "outputs": [],
   "source": [
    "dataset=pd.read_csv(\"Placement.csv\")"
   ]
  },
  {
   "cell_type": "code",
   "execution_count": 3,
   "id": "bce6ff79-d5ce-43dc-8f9d-4bb8a3f0e194",
   "metadata": {},
   "outputs": [
    {
     "data": {
      "text/html": [
       "<div>\n",
       "<style scoped>\n",
       "    .dataframe tbody tr th:only-of-type {\n",
       "        vertical-align: middle;\n",
       "    }\n",
       "\n",
       "    .dataframe tbody tr th {\n",
       "        vertical-align: top;\n",
       "    }\n",
       "\n",
       "    .dataframe thead th {\n",
       "        text-align: right;\n",
       "    }\n",
       "</style>\n",
       "<table border=\"1\" class=\"dataframe\">\n",
       "  <thead>\n",
       "    <tr style=\"text-align: right;\">\n",
       "      <th></th>\n",
       "      <th>sl_no</th>\n",
       "      <th>gender</th>\n",
       "      <th>ssc_p</th>\n",
       "      <th>ssc_b</th>\n",
       "      <th>hsc_p</th>\n",
       "      <th>hsc_b</th>\n",
       "      <th>hsc_s</th>\n",
       "      <th>degree_p</th>\n",
       "      <th>degree_t</th>\n",
       "      <th>workex</th>\n",
       "      <th>etest_p</th>\n",
       "      <th>specialisation</th>\n",
       "      <th>mba_p</th>\n",
       "      <th>status</th>\n",
       "      <th>salary</th>\n",
       "    </tr>\n",
       "  </thead>\n",
       "  <tbody>\n",
       "    <tr>\n",
       "      <th>0</th>\n",
       "      <td>1</td>\n",
       "      <td>M</td>\n",
       "      <td>67.00</td>\n",
       "      <td>Others</td>\n",
       "      <td>91.00</td>\n",
       "      <td>Others</td>\n",
       "      <td>Commerce</td>\n",
       "      <td>58.00</td>\n",
       "      <td>Sci&amp;Tech</td>\n",
       "      <td>No</td>\n",
       "      <td>55.0</td>\n",
       "      <td>Mkt&amp;HR</td>\n",
       "      <td>58.80</td>\n",
       "      <td>Placed</td>\n",
       "      <td>270000.0</td>\n",
       "    </tr>\n",
       "    <tr>\n",
       "      <th>1</th>\n",
       "      <td>2</td>\n",
       "      <td>M</td>\n",
       "      <td>79.33</td>\n",
       "      <td>Central</td>\n",
       "      <td>78.33</td>\n",
       "      <td>Others</td>\n",
       "      <td>Science</td>\n",
       "      <td>77.48</td>\n",
       "      <td>Sci&amp;Tech</td>\n",
       "      <td>Yes</td>\n",
       "      <td>86.5</td>\n",
       "      <td>Mkt&amp;Fin</td>\n",
       "      <td>66.28</td>\n",
       "      <td>Placed</td>\n",
       "      <td>200000.0</td>\n",
       "    </tr>\n",
       "    <tr>\n",
       "      <th>2</th>\n",
       "      <td>3</td>\n",
       "      <td>M</td>\n",
       "      <td>65.00</td>\n",
       "      <td>Central</td>\n",
       "      <td>68.00</td>\n",
       "      <td>Central</td>\n",
       "      <td>Arts</td>\n",
       "      <td>64.00</td>\n",
       "      <td>Comm&amp;Mgmt</td>\n",
       "      <td>No</td>\n",
       "      <td>75.0</td>\n",
       "      <td>Mkt&amp;Fin</td>\n",
       "      <td>57.80</td>\n",
       "      <td>Placed</td>\n",
       "      <td>250000.0</td>\n",
       "    </tr>\n",
       "    <tr>\n",
       "      <th>3</th>\n",
       "      <td>4</td>\n",
       "      <td>M</td>\n",
       "      <td>56.00</td>\n",
       "      <td>Central</td>\n",
       "      <td>52.00</td>\n",
       "      <td>Central</td>\n",
       "      <td>Science</td>\n",
       "      <td>52.00</td>\n",
       "      <td>Sci&amp;Tech</td>\n",
       "      <td>No</td>\n",
       "      <td>66.0</td>\n",
       "      <td>Mkt&amp;HR</td>\n",
       "      <td>59.43</td>\n",
       "      <td>Not Placed</td>\n",
       "      <td>NaN</td>\n",
       "    </tr>\n",
       "    <tr>\n",
       "      <th>4</th>\n",
       "      <td>5</td>\n",
       "      <td>M</td>\n",
       "      <td>85.80</td>\n",
       "      <td>Central</td>\n",
       "      <td>73.60</td>\n",
       "      <td>Central</td>\n",
       "      <td>Commerce</td>\n",
       "      <td>73.30</td>\n",
       "      <td>Comm&amp;Mgmt</td>\n",
       "      <td>No</td>\n",
       "      <td>96.8</td>\n",
       "      <td>Mkt&amp;Fin</td>\n",
       "      <td>55.50</td>\n",
       "      <td>Placed</td>\n",
       "      <td>425000.0</td>\n",
       "    </tr>\n",
       "    <tr>\n",
       "      <th>...</th>\n",
       "      <td>...</td>\n",
       "      <td>...</td>\n",
       "      <td>...</td>\n",
       "      <td>...</td>\n",
       "      <td>...</td>\n",
       "      <td>...</td>\n",
       "      <td>...</td>\n",
       "      <td>...</td>\n",
       "      <td>...</td>\n",
       "      <td>...</td>\n",
       "      <td>...</td>\n",
       "      <td>...</td>\n",
       "      <td>...</td>\n",
       "      <td>...</td>\n",
       "      <td>...</td>\n",
       "    </tr>\n",
       "    <tr>\n",
       "      <th>210</th>\n",
       "      <td>211</td>\n",
       "      <td>M</td>\n",
       "      <td>80.60</td>\n",
       "      <td>Others</td>\n",
       "      <td>82.00</td>\n",
       "      <td>Others</td>\n",
       "      <td>Commerce</td>\n",
       "      <td>77.60</td>\n",
       "      <td>Comm&amp;Mgmt</td>\n",
       "      <td>No</td>\n",
       "      <td>91.0</td>\n",
       "      <td>Mkt&amp;Fin</td>\n",
       "      <td>74.49</td>\n",
       "      <td>Placed</td>\n",
       "      <td>400000.0</td>\n",
       "    </tr>\n",
       "    <tr>\n",
       "      <th>211</th>\n",
       "      <td>212</td>\n",
       "      <td>M</td>\n",
       "      <td>58.00</td>\n",
       "      <td>Others</td>\n",
       "      <td>60.00</td>\n",
       "      <td>Others</td>\n",
       "      <td>Science</td>\n",
       "      <td>72.00</td>\n",
       "      <td>Sci&amp;Tech</td>\n",
       "      <td>No</td>\n",
       "      <td>74.0</td>\n",
       "      <td>Mkt&amp;Fin</td>\n",
       "      <td>53.62</td>\n",
       "      <td>Placed</td>\n",
       "      <td>275000.0</td>\n",
       "    </tr>\n",
       "    <tr>\n",
       "      <th>212</th>\n",
       "      <td>213</td>\n",
       "      <td>M</td>\n",
       "      <td>67.00</td>\n",
       "      <td>Others</td>\n",
       "      <td>67.00</td>\n",
       "      <td>Others</td>\n",
       "      <td>Commerce</td>\n",
       "      <td>73.00</td>\n",
       "      <td>Comm&amp;Mgmt</td>\n",
       "      <td>Yes</td>\n",
       "      <td>59.0</td>\n",
       "      <td>Mkt&amp;Fin</td>\n",
       "      <td>69.72</td>\n",
       "      <td>Placed</td>\n",
       "      <td>295000.0</td>\n",
       "    </tr>\n",
       "    <tr>\n",
       "      <th>213</th>\n",
       "      <td>214</td>\n",
       "      <td>F</td>\n",
       "      <td>74.00</td>\n",
       "      <td>Others</td>\n",
       "      <td>66.00</td>\n",
       "      <td>Others</td>\n",
       "      <td>Commerce</td>\n",
       "      <td>58.00</td>\n",
       "      <td>Comm&amp;Mgmt</td>\n",
       "      <td>No</td>\n",
       "      <td>70.0</td>\n",
       "      <td>Mkt&amp;HR</td>\n",
       "      <td>60.23</td>\n",
       "      <td>Placed</td>\n",
       "      <td>204000.0</td>\n",
       "    </tr>\n",
       "    <tr>\n",
       "      <th>214</th>\n",
       "      <td>215</td>\n",
       "      <td>M</td>\n",
       "      <td>62.00</td>\n",
       "      <td>Central</td>\n",
       "      <td>58.00</td>\n",
       "      <td>Others</td>\n",
       "      <td>Science</td>\n",
       "      <td>53.00</td>\n",
       "      <td>Comm&amp;Mgmt</td>\n",
       "      <td>No</td>\n",
       "      <td>89.0</td>\n",
       "      <td>Mkt&amp;HR</td>\n",
       "      <td>60.22</td>\n",
       "      <td>Not Placed</td>\n",
       "      <td>NaN</td>\n",
       "    </tr>\n",
       "  </tbody>\n",
       "</table>\n",
       "<p>215 rows × 15 columns</p>\n",
       "</div>"
      ],
      "text/plain": [
       "     sl_no gender  ssc_p    ssc_b  hsc_p    hsc_b     hsc_s  degree_p  \\\n",
       "0        1      M  67.00   Others  91.00   Others  Commerce     58.00   \n",
       "1        2      M  79.33  Central  78.33   Others   Science     77.48   \n",
       "2        3      M  65.00  Central  68.00  Central      Arts     64.00   \n",
       "3        4      M  56.00  Central  52.00  Central   Science     52.00   \n",
       "4        5      M  85.80  Central  73.60  Central  Commerce     73.30   \n",
       "..     ...    ...    ...      ...    ...      ...       ...       ...   \n",
       "210    211      M  80.60   Others  82.00   Others  Commerce     77.60   \n",
       "211    212      M  58.00   Others  60.00   Others   Science     72.00   \n",
       "212    213      M  67.00   Others  67.00   Others  Commerce     73.00   \n",
       "213    214      F  74.00   Others  66.00   Others  Commerce     58.00   \n",
       "214    215      M  62.00  Central  58.00   Others   Science     53.00   \n",
       "\n",
       "      degree_t workex  etest_p specialisation  mba_p      status    salary  \n",
       "0     Sci&Tech     No     55.0         Mkt&HR  58.80      Placed  270000.0  \n",
       "1     Sci&Tech    Yes     86.5        Mkt&Fin  66.28      Placed  200000.0  \n",
       "2    Comm&Mgmt     No     75.0        Mkt&Fin  57.80      Placed  250000.0  \n",
       "3     Sci&Tech     No     66.0         Mkt&HR  59.43  Not Placed       NaN  \n",
       "4    Comm&Mgmt     No     96.8        Mkt&Fin  55.50      Placed  425000.0  \n",
       "..         ...    ...      ...            ...    ...         ...       ...  \n",
       "210  Comm&Mgmt     No     91.0        Mkt&Fin  74.49      Placed  400000.0  \n",
       "211   Sci&Tech     No     74.0        Mkt&Fin  53.62      Placed  275000.0  \n",
       "212  Comm&Mgmt    Yes     59.0        Mkt&Fin  69.72      Placed  295000.0  \n",
       "213  Comm&Mgmt     No     70.0         Mkt&HR  60.23      Placed  204000.0  \n",
       "214  Comm&Mgmt     No     89.0         Mkt&HR  60.22  Not Placed       NaN  \n",
       "\n",
       "[215 rows x 15 columns]"
      ]
     },
     "execution_count": 3,
     "metadata": {},
     "output_type": "execute_result"
    }
   ],
   "source": [
    "dataset"
   ]
  },
  {
   "cell_type": "markdown",
   "id": "28c6d9e8-b30a-421c-a040-358f23b61968",
   "metadata": {},
   "source": [
    "# 1)Replace the NaN values with correct value. And justify why you have chosen the same"
   ]
  },
  {
   "cell_type": "code",
   "execution_count": 4,
   "id": "aed6876a-d9af-42c4-ba31-b7193723b83e",
   "metadata": {},
   "outputs": [
    {
     "data": {
      "text/plain": [
       "sl_no              0\n",
       "gender             0\n",
       "ssc_p              0\n",
       "ssc_b              0\n",
       "hsc_p              0\n",
       "hsc_b              0\n",
       "hsc_s              0\n",
       "degree_p           0\n",
       "degree_t           0\n",
       "workex             0\n",
       "etest_p            0\n",
       "specialisation     0\n",
       "mba_p              0\n",
       "status             0\n",
       "salary            67\n",
       "dtype: int64"
      ]
     },
     "execution_count": 4,
     "metadata": {},
     "output_type": "execute_result"
    }
   ],
   "source": [
    "dataset.isnull().sum()"
   ]
  },
  {
   "cell_type": "code",
   "execution_count": 5,
   "id": "0836ad9c-4308-4361-9886-ec59a7c7e29b",
   "metadata": {},
   "outputs": [
    {
     "data": {
      "text/plain": [
       "sl_no              0\n",
       "gender             0\n",
       "ssc_p              0\n",
       "ssc_b              0\n",
       "hsc_p              0\n",
       "hsc_b              0\n",
       "hsc_s              0\n",
       "degree_p           0\n",
       "degree_t           0\n",
       "workex             0\n",
       "etest_p            0\n",
       "specialisation     0\n",
       "mba_p              0\n",
       "status             0\n",
       "salary            67\n",
       "dtype: int64"
      ]
     },
     "execution_count": 5,
     "metadata": {},
     "output_type": "execute_result"
    }
   ],
   "source": [
    "dataset.isna().sum()"
   ]
  },
  {
   "cell_type": "code",
   "execution_count": 6,
   "id": "4388ea59-ebe5-4cbb-8948-7b48ef408feb",
   "metadata": {},
   "outputs": [],
   "source": [
    "dataset[\"salary\"].fillna(0,inplace=True)"
   ]
  },
  {
   "cell_type": "code",
   "execution_count": 7,
   "id": "46002e3a-c1dc-4279-9b34-e003a9f5ba1b",
   "metadata": {},
   "outputs": [
    {
     "data": {
      "text/plain": [
       "sl_no             0\n",
       "gender            0\n",
       "ssc_p             0\n",
       "ssc_b             0\n",
       "hsc_p             0\n",
       "hsc_b             0\n",
       "hsc_s             0\n",
       "degree_p          0\n",
       "degree_t          0\n",
       "workex            0\n",
       "etest_p           0\n",
       "specialisation    0\n",
       "mba_p             0\n",
       "status            0\n",
       "salary            0\n",
       "dtype: int64"
      ]
     },
     "execution_count": 7,
     "metadata": {},
     "output_type": "execute_result"
    }
   ],
   "source": [
    "dataset.isna().sum()"
   ]
  },
  {
   "cell_type": "markdown",
   "id": "ce9bea7c-90e0-4994-ac1d-40f666bbda70",
   "metadata": {},
   "source": [
    "# 2)How many of them are not placed? "
   ]
  },
  {
   "cell_type": "code",
   "execution_count": 8,
   "id": "1921dfe0-e88e-4a64-83a5-7a7e0a31247c",
   "metadata": {},
   "outputs": [
    {
     "data": {
      "text/plain": [
       "status\n",
       "Placed        148\n",
       "Not Placed     67\n",
       "Name: count, dtype: int64"
      ]
     },
     "execution_count": 8,
     "metadata": {},
     "output_type": "execute_result"
    }
   ],
   "source": [
    "dataset['status'].value_counts()"
   ]
  },
  {
   "cell_type": "markdown",
   "id": "1f4640a6-3f99-42e4-a60c-ba871893737e",
   "metadata": {},
   "source": [
    "# 3)Find the reason for non placement from the dataset? "
   ]
  },
  {
   "cell_type": "code",
   "execution_count": 9,
   "id": "b35a6ecd-1acb-41c5-8727-0faa7feb8904",
   "metadata": {},
   "outputs": [
    {
     "name": "stdout",
     "output_type": "stream",
     "text": [
      "                 sl_no      ssc_p      hsc_p   degree_p    etest_p      mba_p  \\\n",
      "status                                                                          \n",
      "Not Placed  110.477612  57.544030  58.395522  61.134179  69.587910  61.612836   \n",
      "Placed      106.878378  71.721486  69.926554  68.740541  73.238041  62.579392   \n",
      "\n",
      "                   salary  \n",
      "status                     \n",
      "Not Placed       0.000000  \n",
      "Placed      288655.405405  \n"
     ]
    }
   ],
   "source": [
    "mean_values = dataset.groupby(\"status\").mean(numeric_only=True)\n",
    "\n",
    "print(mean_values)"
   ]
  },
  {
   "cell_type": "markdown",
   "id": "d0b46bcb-0ede-49ea-a237-7c769e77907d",
   "metadata": {},
   "source": [
    "# 4)What kind of relation between salary and mba_p"
   ]
  },
  {
   "cell_type": "code",
   "execution_count": 10,
   "id": "8f9632b5-12cc-425a-ac39-91ac4c65f1c0",
   "metadata": {},
   "outputs": [],
   "source": [
    "quan=[]\n",
    "qual=[]\n",
    "for columnName in dataset.columns:\n",
    "    #print(columnName)\n",
    "    if(dataset[columnName].dtype=='O'):\n",
    "        #print(\"qual\")\n",
    "        qual.append(columnName)\n",
    "    else:\n",
    "        #print(\"quan\")\n",
    "        quan.append(columnName)"
   ]
  },
  {
   "cell_type": "code",
   "execution_count": 11,
   "id": "e9f7dafe-3a49-46ae-b994-f2b14bfc42ec",
   "metadata": {},
   "outputs": [
    {
     "data": {
      "text/html": [
       "<div>\n",
       "<style scoped>\n",
       "    .dataframe tbody tr th:only-of-type {\n",
       "        vertical-align: middle;\n",
       "    }\n",
       "\n",
       "    .dataframe tbody tr th {\n",
       "        vertical-align: top;\n",
       "    }\n",
       "\n",
       "    .dataframe thead th {\n",
       "        text-align: right;\n",
       "    }\n",
       "</style>\n",
       "<table border=\"1\" class=\"dataframe\">\n",
       "  <thead>\n",
       "    <tr style=\"text-align: right;\">\n",
       "      <th></th>\n",
       "      <th>sl_no</th>\n",
       "      <th>ssc_p</th>\n",
       "      <th>hsc_p</th>\n",
       "      <th>degree_p</th>\n",
       "      <th>etest_p</th>\n",
       "      <th>mba_p</th>\n",
       "      <th>salary</th>\n",
       "    </tr>\n",
       "  </thead>\n",
       "  <tbody>\n",
       "    <tr>\n",
       "      <th>sl_no</th>\n",
       "      <td>1.000000</td>\n",
       "      <td>-0.078155</td>\n",
       "      <td>-0.085711</td>\n",
       "      <td>-0.088281</td>\n",
       "      <td>0.063636</td>\n",
       "      <td>0.022327</td>\n",
       "      <td>0.002543</td>\n",
       "    </tr>\n",
       "    <tr>\n",
       "      <th>ssc_p</th>\n",
       "      <td>-0.078155</td>\n",
       "      <td>1.000000</td>\n",
       "      <td>0.511472</td>\n",
       "      <td>0.538404</td>\n",
       "      <td>0.261993</td>\n",
       "      <td>0.388478</td>\n",
       "      <td>0.538090</td>\n",
       "    </tr>\n",
       "    <tr>\n",
       "      <th>hsc_p</th>\n",
       "      <td>-0.085711</td>\n",
       "      <td>0.511472</td>\n",
       "      <td>1.000000</td>\n",
       "      <td>0.434206</td>\n",
       "      <td>0.245113</td>\n",
       "      <td>0.354823</td>\n",
       "      <td>0.452569</td>\n",
       "    </tr>\n",
       "    <tr>\n",
       "      <th>degree_p</th>\n",
       "      <td>-0.088281</td>\n",
       "      <td>0.538404</td>\n",
       "      <td>0.434206</td>\n",
       "      <td>1.000000</td>\n",
       "      <td>0.224470</td>\n",
       "      <td>0.402364</td>\n",
       "      <td>0.408371</td>\n",
       "    </tr>\n",
       "    <tr>\n",
       "      <th>etest_p</th>\n",
       "      <td>0.063636</td>\n",
       "      <td>0.261993</td>\n",
       "      <td>0.245113</td>\n",
       "      <td>0.224470</td>\n",
       "      <td>1.000000</td>\n",
       "      <td>0.218055</td>\n",
       "      <td>0.186988</td>\n",
       "    </tr>\n",
       "    <tr>\n",
       "      <th>mba_p</th>\n",
       "      <td>0.022327</td>\n",
       "      <td>0.388478</td>\n",
       "      <td>0.354823</td>\n",
       "      <td>0.402364</td>\n",
       "      <td>0.218055</td>\n",
       "      <td>1.000000</td>\n",
       "      <td>0.139823</td>\n",
       "    </tr>\n",
       "    <tr>\n",
       "      <th>salary</th>\n",
       "      <td>0.002543</td>\n",
       "      <td>0.538090</td>\n",
       "      <td>0.452569</td>\n",
       "      <td>0.408371</td>\n",
       "      <td>0.186988</td>\n",
       "      <td>0.139823</td>\n",
       "      <td>1.000000</td>\n",
       "    </tr>\n",
       "  </tbody>\n",
       "</table>\n",
       "</div>"
      ],
      "text/plain": [
       "             sl_no     ssc_p     hsc_p  degree_p   etest_p     mba_p    salary\n",
       "sl_no     1.000000 -0.078155 -0.085711 -0.088281  0.063636  0.022327  0.002543\n",
       "ssc_p    -0.078155  1.000000  0.511472  0.538404  0.261993  0.388478  0.538090\n",
       "hsc_p    -0.085711  0.511472  1.000000  0.434206  0.245113  0.354823  0.452569\n",
       "degree_p -0.088281  0.538404  0.434206  1.000000  0.224470  0.402364  0.408371\n",
       "etest_p   0.063636  0.261993  0.245113  0.224470  1.000000  0.218055  0.186988\n",
       "mba_p     0.022327  0.388478  0.354823  0.402364  0.218055  1.000000  0.139823\n",
       "salary    0.002543  0.538090  0.452569  0.408371  0.186988  0.139823  1.000000"
      ]
     },
     "execution_count": 11,
     "metadata": {},
     "output_type": "execute_result"
    }
   ],
   "source": [
    "dataset[quan].corr()"
   ]
  },
  {
   "cell_type": "markdown",
   "id": "c080f7eb-faab-45b1-ae95-0b150aa3d68f",
   "metadata": {},
   "source": [
    "# Correlation between salary and mba_p  = 0.139823 (Postive correalation)"
   ]
  },
  {
   "cell_type": "markdown",
   "id": "77915d50-6b8f-4dc8-8215-4cc209bd7591",
   "metadata": {},
   "source": [
    "# 5)Which specialization is getting minimum salary? "
   ]
  },
  {
   "cell_type": "code",
   "execution_count": 12,
   "id": "70bb3706-fa9c-4b9d-bb67-2257c6e5baed",
   "metadata": {},
   "outputs": [],
   "source": [
    "placed_df = dataset[dataset['status'] == 'Placed']"
   ]
  },
  {
   "cell_type": "code",
   "execution_count": 13,
   "id": "816ed31c-935d-480d-87a9-3b1fb4bc3422",
   "metadata": {},
   "outputs": [
    {
     "data": {
      "text/html": [
       "<div>\n",
       "<style scoped>\n",
       "    .dataframe tbody tr th:only-of-type {\n",
       "        vertical-align: middle;\n",
       "    }\n",
       "\n",
       "    .dataframe tbody tr th {\n",
       "        vertical-align: top;\n",
       "    }\n",
       "\n",
       "    .dataframe thead th {\n",
       "        text-align: right;\n",
       "    }\n",
       "</style>\n",
       "<table border=\"1\" class=\"dataframe\">\n",
       "  <thead>\n",
       "    <tr style=\"text-align: right;\">\n",
       "      <th></th>\n",
       "      <th>sl_no</th>\n",
       "      <th>gender</th>\n",
       "      <th>ssc_p</th>\n",
       "      <th>ssc_b</th>\n",
       "      <th>hsc_p</th>\n",
       "      <th>hsc_b</th>\n",
       "      <th>hsc_s</th>\n",
       "      <th>degree_p</th>\n",
       "      <th>degree_t</th>\n",
       "      <th>workex</th>\n",
       "      <th>etest_p</th>\n",
       "      <th>specialisation</th>\n",
       "      <th>mba_p</th>\n",
       "      <th>status</th>\n",
       "      <th>salary</th>\n",
       "    </tr>\n",
       "  </thead>\n",
       "  <tbody>\n",
       "    <tr>\n",
       "      <th>0</th>\n",
       "      <td>1</td>\n",
       "      <td>M</td>\n",
       "      <td>67.00</td>\n",
       "      <td>Others</td>\n",
       "      <td>91.00</td>\n",
       "      <td>Others</td>\n",
       "      <td>Commerce</td>\n",
       "      <td>58.00</td>\n",
       "      <td>Sci&amp;Tech</td>\n",
       "      <td>No</td>\n",
       "      <td>55.0</td>\n",
       "      <td>Mkt&amp;HR</td>\n",
       "      <td>58.80</td>\n",
       "      <td>Placed</td>\n",
       "      <td>270000.0</td>\n",
       "    </tr>\n",
       "    <tr>\n",
       "      <th>1</th>\n",
       "      <td>2</td>\n",
       "      <td>M</td>\n",
       "      <td>79.33</td>\n",
       "      <td>Central</td>\n",
       "      <td>78.33</td>\n",
       "      <td>Others</td>\n",
       "      <td>Science</td>\n",
       "      <td>77.48</td>\n",
       "      <td>Sci&amp;Tech</td>\n",
       "      <td>Yes</td>\n",
       "      <td>86.5</td>\n",
       "      <td>Mkt&amp;Fin</td>\n",
       "      <td>66.28</td>\n",
       "      <td>Placed</td>\n",
       "      <td>200000.0</td>\n",
       "    </tr>\n",
       "    <tr>\n",
       "      <th>2</th>\n",
       "      <td>3</td>\n",
       "      <td>M</td>\n",
       "      <td>65.00</td>\n",
       "      <td>Central</td>\n",
       "      <td>68.00</td>\n",
       "      <td>Central</td>\n",
       "      <td>Arts</td>\n",
       "      <td>64.00</td>\n",
       "      <td>Comm&amp;Mgmt</td>\n",
       "      <td>No</td>\n",
       "      <td>75.0</td>\n",
       "      <td>Mkt&amp;Fin</td>\n",
       "      <td>57.80</td>\n",
       "      <td>Placed</td>\n",
       "      <td>250000.0</td>\n",
       "    </tr>\n",
       "    <tr>\n",
       "      <th>4</th>\n",
       "      <td>5</td>\n",
       "      <td>M</td>\n",
       "      <td>85.80</td>\n",
       "      <td>Central</td>\n",
       "      <td>73.60</td>\n",
       "      <td>Central</td>\n",
       "      <td>Commerce</td>\n",
       "      <td>73.30</td>\n",
       "      <td>Comm&amp;Mgmt</td>\n",
       "      <td>No</td>\n",
       "      <td>96.8</td>\n",
       "      <td>Mkt&amp;Fin</td>\n",
       "      <td>55.50</td>\n",
       "      <td>Placed</td>\n",
       "      <td>425000.0</td>\n",
       "    </tr>\n",
       "    <tr>\n",
       "      <th>7</th>\n",
       "      <td>8</td>\n",
       "      <td>M</td>\n",
       "      <td>82.00</td>\n",
       "      <td>Central</td>\n",
       "      <td>64.00</td>\n",
       "      <td>Central</td>\n",
       "      <td>Science</td>\n",
       "      <td>66.00</td>\n",
       "      <td>Sci&amp;Tech</td>\n",
       "      <td>Yes</td>\n",
       "      <td>67.0</td>\n",
       "      <td>Mkt&amp;Fin</td>\n",
       "      <td>62.14</td>\n",
       "      <td>Placed</td>\n",
       "      <td>252000.0</td>\n",
       "    </tr>\n",
       "    <tr>\n",
       "      <th>...</th>\n",
       "      <td>...</td>\n",
       "      <td>...</td>\n",
       "      <td>...</td>\n",
       "      <td>...</td>\n",
       "      <td>...</td>\n",
       "      <td>...</td>\n",
       "      <td>...</td>\n",
       "      <td>...</td>\n",
       "      <td>...</td>\n",
       "      <td>...</td>\n",
       "      <td>...</td>\n",
       "      <td>...</td>\n",
       "      <td>...</td>\n",
       "      <td>...</td>\n",
       "      <td>...</td>\n",
       "    </tr>\n",
       "    <tr>\n",
       "      <th>209</th>\n",
       "      <td>210</td>\n",
       "      <td>M</td>\n",
       "      <td>62.00</td>\n",
       "      <td>Central</td>\n",
       "      <td>72.00</td>\n",
       "      <td>Central</td>\n",
       "      <td>Commerce</td>\n",
       "      <td>65.00</td>\n",
       "      <td>Comm&amp;Mgmt</td>\n",
       "      <td>No</td>\n",
       "      <td>67.0</td>\n",
       "      <td>Mkt&amp;Fin</td>\n",
       "      <td>56.49</td>\n",
       "      <td>Placed</td>\n",
       "      <td>216000.0</td>\n",
       "    </tr>\n",
       "    <tr>\n",
       "      <th>210</th>\n",
       "      <td>211</td>\n",
       "      <td>M</td>\n",
       "      <td>80.60</td>\n",
       "      <td>Others</td>\n",
       "      <td>82.00</td>\n",
       "      <td>Others</td>\n",
       "      <td>Commerce</td>\n",
       "      <td>77.60</td>\n",
       "      <td>Comm&amp;Mgmt</td>\n",
       "      <td>No</td>\n",
       "      <td>91.0</td>\n",
       "      <td>Mkt&amp;Fin</td>\n",
       "      <td>74.49</td>\n",
       "      <td>Placed</td>\n",
       "      <td>400000.0</td>\n",
       "    </tr>\n",
       "    <tr>\n",
       "      <th>211</th>\n",
       "      <td>212</td>\n",
       "      <td>M</td>\n",
       "      <td>58.00</td>\n",
       "      <td>Others</td>\n",
       "      <td>60.00</td>\n",
       "      <td>Others</td>\n",
       "      <td>Science</td>\n",
       "      <td>72.00</td>\n",
       "      <td>Sci&amp;Tech</td>\n",
       "      <td>No</td>\n",
       "      <td>74.0</td>\n",
       "      <td>Mkt&amp;Fin</td>\n",
       "      <td>53.62</td>\n",
       "      <td>Placed</td>\n",
       "      <td>275000.0</td>\n",
       "    </tr>\n",
       "    <tr>\n",
       "      <th>212</th>\n",
       "      <td>213</td>\n",
       "      <td>M</td>\n",
       "      <td>67.00</td>\n",
       "      <td>Others</td>\n",
       "      <td>67.00</td>\n",
       "      <td>Others</td>\n",
       "      <td>Commerce</td>\n",
       "      <td>73.00</td>\n",
       "      <td>Comm&amp;Mgmt</td>\n",
       "      <td>Yes</td>\n",
       "      <td>59.0</td>\n",
       "      <td>Mkt&amp;Fin</td>\n",
       "      <td>69.72</td>\n",
       "      <td>Placed</td>\n",
       "      <td>295000.0</td>\n",
       "    </tr>\n",
       "    <tr>\n",
       "      <th>213</th>\n",
       "      <td>214</td>\n",
       "      <td>F</td>\n",
       "      <td>74.00</td>\n",
       "      <td>Others</td>\n",
       "      <td>66.00</td>\n",
       "      <td>Others</td>\n",
       "      <td>Commerce</td>\n",
       "      <td>58.00</td>\n",
       "      <td>Comm&amp;Mgmt</td>\n",
       "      <td>No</td>\n",
       "      <td>70.0</td>\n",
       "      <td>Mkt&amp;HR</td>\n",
       "      <td>60.23</td>\n",
       "      <td>Placed</td>\n",
       "      <td>204000.0</td>\n",
       "    </tr>\n",
       "  </tbody>\n",
       "</table>\n",
       "<p>148 rows × 15 columns</p>\n",
       "</div>"
      ],
      "text/plain": [
       "     sl_no gender  ssc_p    ssc_b  hsc_p    hsc_b     hsc_s  degree_p  \\\n",
       "0        1      M  67.00   Others  91.00   Others  Commerce     58.00   \n",
       "1        2      M  79.33  Central  78.33   Others   Science     77.48   \n",
       "2        3      M  65.00  Central  68.00  Central      Arts     64.00   \n",
       "4        5      M  85.80  Central  73.60  Central  Commerce     73.30   \n",
       "7        8      M  82.00  Central  64.00  Central   Science     66.00   \n",
       "..     ...    ...    ...      ...    ...      ...       ...       ...   \n",
       "209    210      M  62.00  Central  72.00  Central  Commerce     65.00   \n",
       "210    211      M  80.60   Others  82.00   Others  Commerce     77.60   \n",
       "211    212      M  58.00   Others  60.00   Others   Science     72.00   \n",
       "212    213      M  67.00   Others  67.00   Others  Commerce     73.00   \n",
       "213    214      F  74.00   Others  66.00   Others  Commerce     58.00   \n",
       "\n",
       "      degree_t workex  etest_p specialisation  mba_p  status    salary  \n",
       "0     Sci&Tech     No     55.0         Mkt&HR  58.80  Placed  270000.0  \n",
       "1     Sci&Tech    Yes     86.5        Mkt&Fin  66.28  Placed  200000.0  \n",
       "2    Comm&Mgmt     No     75.0        Mkt&Fin  57.80  Placed  250000.0  \n",
       "4    Comm&Mgmt     No     96.8        Mkt&Fin  55.50  Placed  425000.0  \n",
       "7     Sci&Tech    Yes     67.0        Mkt&Fin  62.14  Placed  252000.0  \n",
       "..         ...    ...      ...            ...    ...     ...       ...  \n",
       "209  Comm&Mgmt     No     67.0        Mkt&Fin  56.49  Placed  216000.0  \n",
       "210  Comm&Mgmt     No     91.0        Mkt&Fin  74.49  Placed  400000.0  \n",
       "211   Sci&Tech     No     74.0        Mkt&Fin  53.62  Placed  275000.0  \n",
       "212  Comm&Mgmt    Yes     59.0        Mkt&Fin  69.72  Placed  295000.0  \n",
       "213  Comm&Mgmt     No     70.0         Mkt&HR  60.23  Placed  204000.0  \n",
       "\n",
       "[148 rows x 15 columns]"
      ]
     },
     "execution_count": 13,
     "metadata": {},
     "output_type": "execute_result"
    }
   ],
   "source": [
    "placed_df"
   ]
  },
  {
   "cell_type": "code",
   "execution_count": 14,
   "id": "0df22ca5-ccc0-40b6-b3c9-0be7a267db78",
   "metadata": {},
   "outputs": [],
   "source": [
    "# Group by specialisation and calculate average salary\n",
    "specialisation_salary = placed_df.groupby('specialisation')['salary'].mean().sort_values()"
   ]
  },
  {
   "cell_type": "code",
   "execution_count": 15,
   "id": "fa219924-6c99-454a-b604-9eeef163b59c",
   "metadata": {},
   "outputs": [
    {
     "name": "stdout",
     "output_type": "stream",
     "text": [
      "Specialization-wise average salaries:\n",
      " specialisation\n",
      "Mkt&HR     270377.358491\n",
      "Mkt&Fin    298852.631579\n",
      "Name: salary, dtype: float64\n",
      "\n",
      "Lowest average salary specialization: 270377.358490566\n"
     ]
    }
   ],
   "source": [
    "# Display the specialization with the lowest average salary\n",
    "print(\"Specialization-wise average salaries:\\n\", specialisation_salary)\n",
    "print(\"\\nLowest average salary specialization:\", specialisation_salary.min())"
   ]
  },
  {
   "cell_type": "markdown",
   "id": "849450b2-69dd-4a79-8a49-f168b4a7775b",
   "metadata": {},
   "source": [
    "# 6)How many of them getting above 500000 salary? "
   ]
  },
  {
   "cell_type": "code",
   "execution_count": 16,
   "id": "050eff0e-f537-4984-983c-7b74e81f0a87",
   "metadata": {},
   "outputs": [
    {
     "name": "stdout",
     "output_type": "stream",
     "text": [
      "Number of students with salary above 500000: 3\n"
     ]
    }
   ],
   "source": [
    "# Filter students with salary above 500000\n",
    "high_salary_count = dataset[dataset['salary'] > 500000].shape[0]\n",
    "print(\"Number of students with salary above 500000:\", high_salary_count)"
   ]
  },
  {
   "cell_type": "markdown",
   "id": "3d95926d-ce6b-47f9-9843-96919ab38f05",
   "metadata": {},
   "source": [
    "# 7)Test the Analysis of Variance between etest_p and mba_p at signifance level 5%.(Make decision using Hypothesis Testing) "
   ]
  },
  {
   "cell_type": "code",
   "execution_count": 17,
   "id": "93f1208f-a5af-43da-993c-0c9c4fa210a9",
   "metadata": {},
   "outputs": [
    {
     "name": "stdout",
     "output_type": "stream",
     "text": [
      "F-Statistic: 98.64487057324706\n",
      "P-Value: 4.672547689133573e-21\n"
     ]
    }
   ],
   "source": [
    "import scipy.stats as stats\n",
    "\n",
    "# Perform one-way ANOVA\n",
    "f_stat, p_value = stats.f_oneway(dataset['etest_p'],dataset['mba_p'])\n",
    "\n",
    "print(\"F-Statistic:\", f_stat)\n",
    "print(\"P-Value:\", p_value)"
   ]
  },
  {
   "cell_type": "code",
   "execution_count": 18,
   "id": "30829332-f2f4-4b17-9006-a58b41d189ef",
   "metadata": {},
   "outputs": [],
   "source": [
    "# Null Hypothesis (H₀): There is no significant difference between the of etest_p and mba_p.\n",
    "# Alternative Hypothesis (H₁): There is a significant difference between the of etest_p and mba_p."
   ]
  },
  {
   "cell_type": "markdown",
   "id": "4b1dcdde-533f-43bc-8fb3-b351656d267c",
   "metadata": {},
   "source": [
    "# here p_value > 0.05, so fails to reject H₀ and therefore \"There is a no significant difference between the of etest_p and mba_p\""
   ]
  },
  {
   "cell_type": "markdown",
   "id": "842ebe0c-f490-413c-beb9-8ead82071a18",
   "metadata": {},
   "source": [
    "# 8)Test the similarity between the degree_t(Sci&Tech) and specialisa tion(Mkt&HR) with respect to salary at significance level of 5%.(Make decision using Hypothesis Testing) "
   ]
  },
  {
   "cell_type": "code",
   "execution_count": 19,
   "id": "aec34264-9cfa-4492-9569-ae06fb7f48cf",
   "metadata": {},
   "outputs": [
    {
     "name": "stdout",
     "output_type": "stream",
     "text": [
      "T-Statistic: 2.692041243555374\n",
      "P-Value: 0.007897969943471179\n"
     ]
    }
   ],
   "source": [
    "from scipy.stats import ttest_ind\n",
    "dataset=dataset.dropna()\n",
    "\n",
    "# Group 1: degree_t = Sci&Tech\n",
    "sci_tech_salary = dataset[dataset['degree_t'] == 'Sci&Tech']['salary']\n",
    "# Group 2: specialisation = Mkt&HR\n",
    "mkt_hr_salary = dataset[dataset['specialisation'] == 'Mkt&HR']['salary']\n",
    "\n",
    "t_stat, p_value = ttest_ind(sci_tech_salary, mkt_hr_salary)\n",
    "\n",
    "print(\"T-Statistic:\", t_stat)\n",
    "print(\"P-Value:\", p_value)"
   ]
  },
  {
   "cell_type": "code",
   "execution_count": 20,
   "id": "36702a79-0bae-4406-a893-b315847e56b0",
   "metadata": {},
   "outputs": [],
   "source": [
    "# Null Hypothesis (H₀): There is no significant difference in salary between Students with degree_t = Sci&Tech and Students with specialisation = Mkt&HR.\n",
    "#Alternative Hypothesis (H₁): There is a significant difference in salary between the two groups."
   ]
  },
  {
   "cell_type": "markdown",
   "id": "48104c34-243e-4e6d-af71-34d9e80087ef",
   "metadata": {},
   "source": [
    "# here p_value < 0.05, so reject H₀ and therefore there is a significant difference in salary between the two groups."
   ]
  },
  {
   "cell_type": "markdown",
   "id": "acde5753-6c71-402b-82e9-785a9759dcea",
   "metadata": {},
   "source": [
    "# 9)Convert the normal distribution to standard normal distribution for salary column "
   ]
  },
  {
   "cell_type": "code",
   "execution_count": 23,
   "id": "fe6a1513-328c-4bb3-93f5-001e5b44653b",
   "metadata": {},
   "outputs": [],
   "source": [
    "import seaborn as sns\n",
    "def stdNBgraph(dataset):\n",
    "    #converted to std Norm Dist\n",
    "    mean=dataset.mean()\n",
    "    std=dataset.std()\n",
    "    \n",
    "    values=[i for i in dataset]\n",
    "    \n",
    "    z_score=[((j-mean)/std)for j in values]\n",
    "    \n",
    "    sns.distplot(z_score,kde=True)\n",
    "    sum(z_score)/len(z_score)\n",
    "    \n",
    "    \n"
   ]
  },
  {
   "cell_type": "code",
   "execution_count": 24,
   "id": "9e73ddd9-a984-40ad-8cc1-24b039bc12a0",
   "metadata": {},
   "outputs": [
    {
     "data": {
      "image/png": "[encoded data removed]",
      "text/plain": [
       "<Figure size 640x480 with 1 Axes>"
      ]
     },
     "metadata": {},
     "output_type": "display_data"
    }
   ],
   "source": [
    "stdNBgraph(dataset[\"salary\"])"
   ]
  },
  {
   "cell_type": "markdown",
   "id": "52993080-a6c0-4b20-8371-2b05b503eee0",
   "metadata": {},
   "source": [
    "# 10)What is the probability Density Function of the salary range from 700000 to 900000?"
   ]
  },
  {
   "cell_type": "code",
   "execution_count": 25,
   "id": "4c6c190f-d99a-47f7-90ba-7ff1948849e4",
   "metadata": {},
   "outputs": [
    {
     "data": {
      "text/plain": [
       "<Axes: xlabel='salary', ylabel='Density'>"
      ]
     },
     "execution_count": 25,
     "metadata": {},
     "output_type": "execute_result"
    },
    {
     "data": {
      "image/png": "[encoded data removed]",
      "text/plain": [
       "<Figure size 640x480 with 1 Axes>"
      ]
     },
     "metadata": {},
     "output_type": "display_data"
    }
   ],
   "source": [
    "import seaborn as sns\n",
    "sns.distplot(dataset[\"salary\"])"
   ]
  },
  {
   "cell_type": "code",
   "execution_count": 26,
   "id": "231defc9-95c9-490b-9e04-8cc5f28d2d76",
   "metadata": {},
   "outputs": [],
   "source": [
    "def get_pdf_probability(dataset,startrange,endrange):\n",
    "    from matplotlib import pyplot\n",
    "    from scipy.stats import norm\n",
    "    import seaborn as sns\n",
    "    ax=sns.distplot(dataset,kde=True,kde_kws={'color':'blue'},color='Green')\n",
    "    pyplot.axvline(startrange,color='Red')\n",
    "    pyplot.axvline(endrange,color='Red')\n",
    "    #generate a sample\n",
    "    sample=dataset\n",
    "    #Calculate parameters\n",
    "    sample_mean= sample.mean()\n",
    "    sample_std= sample.std()\n",
    "    print('Mean=%.3f,Standard Deviation=%.3f'% (sample_mean,sample_std))\n",
    "    # define the distribution\n",
    "    dist=norm(sample_mean,sample_std)\n",
    "\n",
    "    #sample probabilities for a range of outcomes\n",
    "    values=[value for value in range (startrange,endrange)]\n",
    "    probabilities =[dist.pdf(value) for value in values]\n",
    "    prob=sum(probabilities)\n",
    "    print(\"The area between range ({},{}):{} \" .format(startrange,endrange,sum(probabilities))) \n",
    "    return prob\n",
    "    "
   ]
  },
  {
   "cell_type": "code",
   "execution_count": 27,
   "id": "59e37bc4-187a-4c11-b0a6-2d6ec437c76e",
   "metadata": {},
   "outputs": [
    {
     "name": "stdout",
     "output_type": "stream",
     "text": [
      "Mean=198702.326,Standard Deviation=154780.927\n",
      "The area between range (700000,900000):0.0005973310593974868 \n"
     ]
    },
    {
     "data": {
      "text/plain": [
       "np.float64(0.0005973310593974868)"
      ]
     },
     "execution_count": 27,
     "metadata": {},
     "output_type": "execute_result"
    },
    {
     "data": {
      "image/png": "[encoded data removed]",
      "text/plain": [
       "<Figure size 640x480 with 1 Axes>"
      ]
     },
     "metadata": {},
     "output_type": "display_data"
    }
   ],
   "source": [
    "get_pdf_probability(dataset[\"salary\"],700000,900000) "
   ]
  },
  {
   "cell_type": "markdown",
   "id": "24220331-0242-4bf7-8856-d2e9e8e46265",
   "metadata": {},
   "source": [
    "# 11)Test the similarity between the degree_t(Sci&Tech)with respect to etest_p and mba_p at significance level of 5%.(Make decision using Hypothesis Testing)"
   ]
  },
  {
   "cell_type": "code",
   "execution_count": 28,
   "id": "a6b218ad-895a-4d2a-aa55-6a75e3a7945e",
   "metadata": {},
   "outputs": [
    {
     "name": "stdout",
     "output_type": "stream",
     "text": [
      "T-Statistic: 5.0049844583693615\n",
      "P-Value: 5.517920600505392e-06\n"
     ]
    }
   ],
   "source": [
    "from scipy.stats import ttest_rel\n",
    "#dataset=dataset.dropna()\n",
    "\n",
    "#Same group with different condition ('etest_p', 'mba_p)\n",
    "degree_t=dataset[dataset['degree_t']=='Sci&Tech']['etest_p']\n",
    "degree_t1=dataset[dataset['degree_t']=='Sci&Tech']['mba_p']\n",
    "\n",
    "t_stat, p_value = ttest_rel(degree_t,degree_t1)\n",
    "\n",
    "print(\"T-Statistic:\", t_stat)\n",
    "print(\"P-Value:\", p_value)"
   ]
  },
  {
   "cell_type": "code",
   "execution_count": 29,
   "id": "b2d71815-004e-43ed-b67e-dce253c1d302",
   "metadata": {},
   "outputs": [],
   "source": [
    "# Null Hypothesis (H₀): There is no significant difference between etest_p and mba_p for the students with degree_t(Sci&Tech) \n",
    "# Alterative Hypothesis (H₁): There is a significant difference between etest_p and mba_p for the students with degree_t(Sci&Tech) "
   ]
  },
  {
   "cell_type": "markdown",
   "id": "77a5f641-22ce-4c2f-ac00-e82c1bcda6ec",
   "metadata": {},
   "source": [
    "# here p_value > 0.05, so fails to reject H₀ and There is no significant difference between etest_p and mba_p for the students with degree_t(Sci&Tech) are statistically similar at the 5% significance level."
   ]
  },
  {
   "cell_type": "markdown",
   "id": "58e3e717-c962-4083-9bc8-23e41b28ff1c",
   "metadata": {},
   "source": [
    "# 12)Which parameter is highly correlated with salary?"
   ]
  },
  {
   "cell_type": "code",
   "execution_count": 32,
   "id": "0ef22884-f594-4544-8228-1c937c519406",
   "metadata": {},
   "outputs": [],
   "source": [
    "from statsmodels.stats.outliers_influence import variance_inflation_factor\n",
    "\n",
    "def calc_vif(X):\n",
    "\n",
    "    # Calculating VIF\n",
    "    vif = pd.DataFrame()\n",
    "    vif[\"variables\"] = X.columns\n",
    "    vif[\"VIF\"] = [variance_inflation_factor(X.values, i) for i in range(X.shape[1])]\n",
    "\n",
    "    return(vif)\n"
   ]
  },
  {
   "cell_type": "code",
   "execution_count": 37,
   "id": "5cee65e9-545f-4d39-94b4-e43e7281012a",
   "metadata": {},
   "outputs": [
    {
     "data": {
      "text/html": [
       "<div>\n",
       "<style scoped>\n",
       "    .dataframe tbody tr th:only-of-type {\n",
       "        vertical-align: middle;\n",
       "    }\n",
       "\n",
       "    .dataframe tbody tr th {\n",
       "        vertical-align: top;\n",
       "    }\n",
       "\n",
       "    .dataframe thead th {\n",
       "        text-align: right;\n",
       "    }\n",
       "</style>\n",
       "<table border=\"1\" class=\"dataframe\">\n",
       "  <thead>\n",
       "    <tr style=\"text-align: right;\">\n",
       "      <th></th>\n",
       "      <th>variables</th>\n",
       "      <th>VIF</th>\n",
       "    </tr>\n",
       "  </thead>\n",
       "  <tbody>\n",
       "    <tr>\n",
       "      <th>0</th>\n",
       "      <td>etest_p</td>\n",
       "      <td>2.745261</td>\n",
       "    </tr>\n",
       "    <tr>\n",
       "      <th>1</th>\n",
       "      <td>salary</td>\n",
       "      <td>2.745261</td>\n",
       "    </tr>\n",
       "  </tbody>\n",
       "</table>\n",
       "</div>"
      ],
      "text/plain": [
       "  variables       VIF\n",
       "0   etest_p  2.745261\n",
       "1    salary  2.745261"
      ]
     },
     "execution_count": 37,
     "metadata": {},
     "output_type": "execute_result"
    }
   ],
   "source": [
    "calc_vif(dataset[[ \"etest_p\", \"salary\"]])"
   ]
  },
  {
   "cell_type": "markdown",
   "id": "61481f33-2f91-466c-abd3-8c1ea9314504",
   "metadata": {},
   "source": [
    "# 13) plot any useful graph and explain it"
   ]
  },
  {
   "cell_type": "code",
   "execution_count": 40,
   "id": "07822d42-f43c-4feb-861e-8094b336dfce",
   "metadata": {},
   "outputs": [
    {
     "data": {
      "image/png": "[encoded data removed]",
      "text/plain": [
       "<Figure size 800x600 with 1 Axes>"
      ]
     },
     "metadata": {},
     "output_type": "display_data"
    }
   ],
   "source": [
    "import matplotlib.pyplot as plt\n",
    "import seaborn as sns\n",
    "\n",
    "# Plot boxplot: Salary vs Specialization\n",
    "plt.figure(figsize=(8,6))\n",
    "sns.boxplot(x='specialisation', y='salary', data=dataset)\n",
    "plt.title(\"Salary Distribution by Specialisation (Mkt&HR vs Mkt&Fin)\", fontsize=14)\n",
    "plt.xlabel(\"Specialisation\")\n",
    "plt.ylabel(\"Salary\")\n",
    "plt.show()"
   ]
  },
  {
   "cell_type": "code",
   "execution_count": null,
   "id": "3e494332-cb79-40ae-acfe-29f76138fb78",
   "metadata": {},
   "outputs": [],
   "source": []
  }
 ],
 "metadata": {
  "kernelspec": {
   "display_name": "Python 3 (ipykernel)",
   "language": "python",
   "name": "python3"
  },
  "language_info": {
   "codemirror_mode": {
    "name": "ipython",
    "version": 3
   },
   "file_extension": ".py",
   "mimetype": "text/x-python",
   "name": "python",
   "nbconvert_exporter": "python",
   "pygments_lexer": "ipython3",
   "version": "3.11.5"
  }
 },
 "nbformat": 4,
 "nbformat_minor": 5
}
